{
 "cells": [
  {
   "cell_type": "code",
   "execution_count": 77,
   "id": "13992db0",
   "metadata": {},
   "outputs": [],
   "source": [
    "import pandas as pd\n",
    "from collections import ChainMap"
   ]
  },
  {
   "cell_type": "code",
   "execution_count": 78,
   "id": "9dbc284f",
   "metadata": {},
   "outputs": [],
   "source": [
    "pdf_votes_per_party_stemwijzer_2021 = pd.read_csv('../data/raw/stemwijzer_2021_stemgedrag_per_partij.csv', index_col = 0)"
   ]
  },
  {
   "cell_type": "code",
   "execution_count": 80,
   "id": "a3d2b97c",
   "metadata": {},
   "outputs": [],
   "source": [
    "volt_differences = []"
   ]
  },
  {
   "cell_type": "code",
   "execution_count": 81,
   "id": "faf26812",
   "metadata": {},
   "outputs": [],
   "source": [
    "for col in pdf_votes_per_party_stemwijzer_2021.columns[1:]:#skip question column\n",
    "    volt_differences.append({col: [difference for difference in abs(pdf_votes_per_party_stemwijzer_2021[col] - pdf_votes_per_party_stemwijzer_2021['Volt'])]})#calculate the difference with the volt-score"
   ]
  },
  {
   "cell_type": "code",
   "execution_count": 86,
   "id": "d9ae0b55",
   "metadata": {},
   "outputs": [],
   "source": [
    "difference_volt_statement = pd.DataFrame(dict(ChainMap(*volt_differences)))\n",
    "sum_difference_national_electorate_with_volt_stemwijzer = difference_volt_statement.apply(sum)\n",
    "\n",
    "sum_difference_national_electorate_with_volt_stemwijzer.to_csv('../data/processed/sum_difference_national_electorate_with_volt_stemwijzer.csv')\n"
   ]
  }
 ],
 "metadata": {
  "kernelspec": {
   "display_name": "Python 3 (ipykernel)",
   "language": "python",
   "name": "python3"
  },
  "language_info": {
   "codemirror_mode": {
    "name": "ipython",
    "version": 3
   },
   "file_extension": ".py",
   "mimetype": "text/x-python",
   "name": "python",
   "nbconvert_exporter": "python",
   "pygments_lexer": "ipython3",
   "version": "3.9.12"
  }
 },
 "nbformat": 4,
 "nbformat_minor": 5
}
