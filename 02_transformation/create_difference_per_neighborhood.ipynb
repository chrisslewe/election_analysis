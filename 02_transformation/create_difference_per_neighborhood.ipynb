{
 "cells": [
  {
   "cell_type": "code",
   "execution_count": 1,
   "id": "c036262c-c663-40d4-9d80-df68366d752a",
   "metadata": {},
   "outputs": [],
   "source": [
    "import pandas as pd"
   ]
  },
  {
   "cell_type": "code",
   "execution_count": 9,
   "id": "4f3a7ab7-d0c2-4948-9353-847ffdc7493e",
   "metadata": {},
   "outputs": [
    {
     "data": {
      "text/html": [
       "<div>\n",
       "<style scoped>\n",
       "    .dataframe tbody tr th:only-of-type {\n",
       "        vertical-align: middle;\n",
       "    }\n",
       "\n",
       "    .dataframe tbody tr th {\n",
       "        vertical-align: top;\n",
       "    }\n",
       "\n",
       "    .dataframe thead th {\n",
       "        text-align: right;\n",
       "    }\n",
       "</style>\n",
       "<table border=\"1\" class=\"dataframe\">\n",
       "  <thead>\n",
       "    <tr style=\"text-align: right;\">\n",
       "      <th></th>\n",
       "      <th>difference</th>\n",
       "    </tr>\n",
       "  </thead>\n",
       "  <tbody>\n",
       "    <tr>\n",
       "      <th>Lijst30</th>\n",
       "      <td>43</td>\n",
       "    </tr>\n",
       "    <tr>\n",
       "      <th>U-Buntu Connected Front</th>\n",
       "      <td>20</td>\n",
       "    </tr>\n",
       "    <tr>\n",
       "      <th>Trots op Nederland</th>\n",
       "      <td>43</td>\n",
       "    </tr>\n",
       "    <tr>\n",
       "      <th>Jezus Leeft</th>\n",
       "      <td>38</td>\n",
       "    </tr>\n",
       "    <tr>\n",
       "      <th>Oprecht</th>\n",
       "      <td>40</td>\n",
       "    </tr>\n",
       "    <tr>\n",
       "      <th>Lijst Henk Krol</th>\n",
       "      <td>38</td>\n",
       "    </tr>\n",
       "    <tr>\n",
       "      <th>BoerBurgerBeweging</th>\n",
       "      <td>37</td>\n",
       "    </tr>\n",
       "    <tr>\n",
       "      <th>Splinter</th>\n",
       "      <td>28</td>\n",
       "    </tr>\n",
       "    <tr>\n",
       "      <th>Piratenpartij</th>\n",
       "      <td>26</td>\n",
       "    </tr>\n",
       "    <tr>\n",
       "      <th>NIDA</th>\n",
       "      <td>26</td>\n",
       "    </tr>\n",
       "    <tr>\n",
       "      <th>Code Oranje</th>\n",
       "      <td>42</td>\n",
       "    </tr>\n",
       "    <tr>\n",
       "      <th>JA21</th>\n",
       "      <td>42</td>\n",
       "    </tr>\n",
       "    <tr>\n",
       "      <th>Forum voor Democratie</th>\n",
       "      <td>47</td>\n",
       "    </tr>\n",
       "    <tr>\n",
       "      <th>DENK</th>\n",
       "      <td>28</td>\n",
       "    </tr>\n",
       "    <tr>\n",
       "      <th>SGP</th>\n",
       "      <td>39</td>\n",
       "    </tr>\n",
       "    <tr>\n",
       "      <th>Partij voor de Dieren</th>\n",
       "      <td>23</td>\n",
       "    </tr>\n",
       "    <tr>\n",
       "      <th>ChristenUnie</th>\n",
       "      <td>28</td>\n",
       "    </tr>\n",
       "    <tr>\n",
       "      <th>Partij van de Arbeid</th>\n",
       "      <td>21</td>\n",
       "    </tr>\n",
       "    <tr>\n",
       "      <th>SP</th>\n",
       "      <td>29</td>\n",
       "    </tr>\n",
       "    <tr>\n",
       "      <th>GroenLinks</th>\n",
       "      <td>18</td>\n",
       "    </tr>\n",
       "    <tr>\n",
       "      <th>CDA</th>\n",
       "      <td>33</td>\n",
       "    </tr>\n",
       "    <tr>\n",
       "      <th>PVV</th>\n",
       "      <td>48</td>\n",
       "    </tr>\n",
       "    <tr>\n",
       "      <th>NLBeter</th>\n",
       "      <td>28</td>\n",
       "    </tr>\n",
       "    <tr>\n",
       "      <th>JONG</th>\n",
       "      <td>25</td>\n",
       "    </tr>\n",
       "    <tr>\n",
       "      <th>Libertaire Partij</th>\n",
       "      <td>32</td>\n",
       "    </tr>\n",
       "    <tr>\n",
       "      <th>Volt</th>\n",
       "      <td>0</td>\n",
       "    </tr>\n",
       "    <tr>\n",
       "      <th>BIJ1</th>\n",
       "      <td>19</td>\n",
       "    </tr>\n",
       "    <tr>\n",
       "      <th>50PLUS</th>\n",
       "      <td>21</td>\n",
       "    </tr>\n",
       "    <tr>\n",
       "      <th>D66</th>\n",
       "      <td>12</td>\n",
       "    </tr>\n",
       "    <tr>\n",
       "      <th>VVD</th>\n",
       "      <td>36</td>\n",
       "    </tr>\n",
       "  </tbody>\n",
       "</table>\n",
       "</div>"
      ],
      "text/plain": [
       "                         difference\n",
       "Lijst30                          43\n",
       "U-Buntu Connected Front          20\n",
       "Trots op Nederland               43\n",
       "Jezus Leeft                      38\n",
       "Oprecht                          40\n",
       "Lijst Henk Krol                  38\n",
       "BoerBurgerBeweging               37\n",
       "Splinter                         28\n",
       "Piratenpartij                    26\n",
       "NIDA                             26\n",
       "Code Oranje                      42\n",
       "JA21                             42\n",
       "Forum voor Democratie            47\n",
       "DENK                             28\n",
       "SGP                              39\n",
       "Partij voor de Dieren            23\n",
       "ChristenUnie                     28\n",
       "Partij van de Arbeid             21\n",
       "SP                               29\n",
       "GroenLinks                       18\n",
       "CDA                              33\n",
       "PVV                              48\n",
       "NLBeter                          28\n",
       "JONG                             25\n",
       "Libertaire Partij                32\n",
       "Volt                              0\n",
       "BIJ1                             19\n",
       "50PLUS                           21\n",
       "D66                              12\n",
       "VVD                              36"
      ]
     },
     "execution_count": 9,
     "metadata": {},
     "output_type": "execute_result"
    }
   ],
   "source": [
    "pdf_results_2021 = pd.read_csv('../data/raw/uitslag_2021_landelijk.csv')\n",
    "sum_difference_volt =  pd.read_csv('../data/processed/sum_difference_national_electorate_with_volt_stemwijzer.csv', index_col = 0)\n",
    "sum_difference_volt"
   ]
  },
  {
   "cell_type": "code",
   "execution_count": 11,
   "id": "9d013cc8-2ce2-48bc-a65a-f9b45d10cd0f",
   "metadata": {},
   "outputs": [],
   "source": [
    "#columns in the differenent datasets do not match, so to do mapping in a later stage, the party names are adjusted mannualy\n",
    "sum_difference_volt.index = ['Lijst30', 'U-Buntu', 'Trots',\n",
    "       'Jezus Leeft', 'OPRECHT', 'Lijst', 'BBB',\n",
    "       'Splinter', 'Piratenpartij', 'NIDA', 'CODE', 'JA21',\n",
    "       'Forum', 'DENK', 'SGP', 'Partij',\n",
    "       'ChristenUnie', 'P.v.d.A.', 'SP', 'GROENLINKS', 'CDA',\n",
    "       'PVV', 'NLBeter', 'JONG', 'LP', 'Volt', 'BIJ1', '50PLUS',\n",
    "       'D66', 'VVD']"
   ]
  },
  {
   "cell_type": "code",
   "execution_count": 21,
   "id": "b56d63ef-4d18-4087-916f-5a29a6a8f3d6",
   "metadata": {},
   "outputs": [],
   "source": [
    "dict_sum_difference_volt = sum_difference_volt.T.to_dict('list')"
   ]
  },
  {
   "cell_type": "code",
   "execution_count": 25,
   "id": "f24c863b",
   "metadata": {},
   "outputs": [
    {
     "data": {
      "text/plain": [
       "{'Lijst30': [43],\n",
       " 'U-Buntu': [20],\n",
       " 'Trots': [43],\n",
       " 'Jezus Leeft': [38],\n",
       " 'OPRECHT': [40],\n",
       " 'Lijst': [38],\n",
       " 'BBB': [37],\n",
       " 'Splinter': [28],\n",
       " 'Piratenpartij': [26],\n",
       " 'NIDA': [26],\n",
       " 'CODE': [42],\n",
       " 'JA21': [42],\n",
       " 'Forum': [47],\n",
       " 'DENK': [28],\n",
       " 'SGP': [39],\n",
       " 'Partij': [23],\n",
       " 'ChristenUnie': [28],\n",
       " 'P.v.d.A.': [21],\n",
       " 'SP': [29],\n",
       " 'GROENLINKS': [18],\n",
       " 'CDA': [33],\n",
       " 'PVV': [48],\n",
       " 'NLBeter': [28],\n",
       " 'JONG': [25],\n",
       " 'LP': [32],\n",
       " 'Volt': [0],\n",
       " 'BIJ1': [19],\n",
       " '50PLUS': [21],\n",
       " 'D66': [12],\n",
       " 'VVD': [36]}"
      ]
     },
     "execution_count": 25,
     "metadata": {},
     "output_type": "execute_result"
    }
   ],
   "source": [
    "dict_sum_difference_volt"
   ]
  },
  {
   "cell_type": "code",
   "execution_count": 32,
   "id": "cc89b244-08c8-4a69-acf2-561f076f8f47",
   "metadata": {},
   "outputs": [
    {
     "ename": "TypeError",
     "evalue": "object of type 'StringMethods' has no len()",
     "output_type": "error",
     "traceback": [
      "\u001b[0;31m---------------------------------------------------------------------------\u001b[0m",
      "\u001b[0;31mTypeError\u001b[0m                                 Traceback (most recent call last)",
      "Input \u001b[0;32mIn [32]\u001b[0m, in \u001b[0;36m<cell line: 1>\u001b[0;34m()\u001b[0m\n\u001b[0;32m----> 1\u001b[0m pdf_results_2021[\u001b[38;5;124m'\u001b[39m\u001b[38;5;124mdifference_volt_per_party\u001b[39m\u001b[38;5;124m'\u001b[39m] \u001b[38;5;241m=\u001b[39m pdf_results_2021[\u001b[38;5;124m'\u001b[39m\u001b[38;5;124mparties\u001b[39m\u001b[38;5;124m'\u001b[39m]\u001b[38;5;241m.\u001b[39mmap(dict_sum_difference_volt)\u001b[38;5;241m.\u001b[39mstr\n",
      "File \u001b[0;32m/opt/homebrew/Cellar/jupyterlab/3.3.2/libexec/lib/python3.9/site-packages/pandas/core/frame.py:3655\u001b[0m, in \u001b[0;36mDataFrame.__setitem__\u001b[0;34m(self, key, value)\u001b[0m\n\u001b[1;32m   3652\u001b[0m     \u001b[38;5;28mself\u001b[39m\u001b[38;5;241m.\u001b[39m_setitem_array([key], value)\n\u001b[1;32m   3653\u001b[0m \u001b[38;5;28;01melse\u001b[39;00m:\n\u001b[1;32m   3654\u001b[0m     \u001b[38;5;66;03m# set column\u001b[39;00m\n\u001b[0;32m-> 3655\u001b[0m     \u001b[38;5;28;43mself\u001b[39;49m\u001b[38;5;241;43m.\u001b[39;49m\u001b[43m_set_item\u001b[49m\u001b[43m(\u001b[49m\u001b[43mkey\u001b[49m\u001b[43m,\u001b[49m\u001b[43m \u001b[49m\u001b[43mvalue\u001b[49m\u001b[43m)\u001b[49m\n",
      "File \u001b[0;32m/opt/homebrew/Cellar/jupyterlab/3.3.2/libexec/lib/python3.9/site-packages/pandas/core/frame.py:3832\u001b[0m, in \u001b[0;36mDataFrame._set_item\u001b[0;34m(self, key, value)\u001b[0m\n\u001b[1;32m   3822\u001b[0m \u001b[38;5;28;01mdef\u001b[39;00m \u001b[38;5;21m_set_item\u001b[39m(\u001b[38;5;28mself\u001b[39m, key, value) \u001b[38;5;241m-\u001b[39m\u001b[38;5;241m>\u001b[39m \u001b[38;5;28;01mNone\u001b[39;00m:\n\u001b[1;32m   3823\u001b[0m     \u001b[38;5;124;03m\"\"\"\u001b[39;00m\n\u001b[1;32m   3824\u001b[0m \u001b[38;5;124;03m    Add series to DataFrame in specified column.\u001b[39;00m\n\u001b[1;32m   3825\u001b[0m \n\u001b[0;32m   (...)\u001b[0m\n\u001b[1;32m   3830\u001b[0m \u001b[38;5;124;03m    ensure homogeneity.\u001b[39;00m\n\u001b[1;32m   3831\u001b[0m \u001b[38;5;124;03m    \"\"\"\u001b[39;00m\n\u001b[0;32m-> 3832\u001b[0m     value \u001b[38;5;241m=\u001b[39m \u001b[38;5;28;43mself\u001b[39;49m\u001b[38;5;241;43m.\u001b[39;49m\u001b[43m_sanitize_column\u001b[49m\u001b[43m(\u001b[49m\u001b[43mvalue\u001b[49m\u001b[43m)\u001b[49m\n\u001b[1;32m   3834\u001b[0m     \u001b[38;5;28;01mif\u001b[39;00m (\n\u001b[1;32m   3835\u001b[0m         key \u001b[38;5;129;01min\u001b[39;00m \u001b[38;5;28mself\u001b[39m\u001b[38;5;241m.\u001b[39mcolumns\n\u001b[1;32m   3836\u001b[0m         \u001b[38;5;129;01mand\u001b[39;00m value\u001b[38;5;241m.\u001b[39mndim \u001b[38;5;241m==\u001b[39m \u001b[38;5;241m1\u001b[39m\n\u001b[1;32m   3837\u001b[0m         \u001b[38;5;129;01mand\u001b[39;00m \u001b[38;5;129;01mnot\u001b[39;00m is_extension_array_dtype(value)\n\u001b[1;32m   3838\u001b[0m     ):\n\u001b[1;32m   3839\u001b[0m         \u001b[38;5;66;03m# broadcast across multiple columns if necessary\u001b[39;00m\n\u001b[1;32m   3840\u001b[0m         \u001b[38;5;28;01mif\u001b[39;00m \u001b[38;5;129;01mnot\u001b[39;00m \u001b[38;5;28mself\u001b[39m\u001b[38;5;241m.\u001b[39mcolumns\u001b[38;5;241m.\u001b[39mis_unique \u001b[38;5;129;01mor\u001b[39;00m \u001b[38;5;28misinstance\u001b[39m(\u001b[38;5;28mself\u001b[39m\u001b[38;5;241m.\u001b[39mcolumns, MultiIndex):\n",
      "File \u001b[0;32m/opt/homebrew/Cellar/jupyterlab/3.3.2/libexec/lib/python3.9/site-packages/pandas/core/frame.py:4529\u001b[0m, in \u001b[0;36mDataFrame._sanitize_column\u001b[0;34m(self, value)\u001b[0m\n\u001b[1;32m   4526\u001b[0m     \u001b[38;5;28;01mreturn\u001b[39;00m _reindex_for_setitem(value, \u001b[38;5;28mself\u001b[39m\u001b[38;5;241m.\u001b[39mindex)\n\u001b[1;32m   4528\u001b[0m \u001b[38;5;28;01mif\u001b[39;00m is_list_like(value):\n\u001b[0;32m-> 4529\u001b[0m     \u001b[43mcom\u001b[49m\u001b[38;5;241;43m.\u001b[39;49m\u001b[43mrequire_length_match\u001b[49m\u001b[43m(\u001b[49m\u001b[43mvalue\u001b[49m\u001b[43m,\u001b[49m\u001b[43m \u001b[49m\u001b[38;5;28;43mself\u001b[39;49m\u001b[38;5;241;43m.\u001b[39;49m\u001b[43mindex\u001b[49m\u001b[43m)\u001b[49m\n\u001b[1;32m   4530\u001b[0m \u001b[38;5;28;01mreturn\u001b[39;00m sanitize_array(value, \u001b[38;5;28mself\u001b[39m\u001b[38;5;241m.\u001b[39mindex, copy\u001b[38;5;241m=\u001b[39m\u001b[38;5;28;01mTrue\u001b[39;00m, allow_2d\u001b[38;5;241m=\u001b[39m\u001b[38;5;28;01mTrue\u001b[39;00m)\n",
      "File \u001b[0;32m/opt/homebrew/Cellar/jupyterlab/3.3.2/libexec/lib/python3.9/site-packages/pandas/core/common.py:556\u001b[0m, in \u001b[0;36mrequire_length_match\u001b[0;34m(data, index)\u001b[0m\n\u001b[1;32m    552\u001b[0m \u001b[38;5;28;01mdef\u001b[39;00m \u001b[38;5;21mrequire_length_match\u001b[39m(data, index: Index):\n\u001b[1;32m    553\u001b[0m     \u001b[38;5;124;03m\"\"\"\u001b[39;00m\n\u001b[1;32m    554\u001b[0m \u001b[38;5;124;03m    Check the length of data matches the length of the index.\u001b[39;00m\n\u001b[1;32m    555\u001b[0m \u001b[38;5;124;03m    \"\"\"\u001b[39;00m\n\u001b[0;32m--> 556\u001b[0m     \u001b[38;5;28;01mif\u001b[39;00m \u001b[38;5;28;43mlen\u001b[39;49m\u001b[43m(\u001b[49m\u001b[43mdata\u001b[49m\u001b[43m)\u001b[49m \u001b[38;5;241m!=\u001b[39m \u001b[38;5;28mlen\u001b[39m(index):\n\u001b[1;32m    557\u001b[0m         \u001b[38;5;28;01mraise\u001b[39;00m \u001b[38;5;167;01mValueError\u001b[39;00m(\n\u001b[1;32m    558\u001b[0m             \u001b[38;5;124m\"\u001b[39m\u001b[38;5;124mLength of values \u001b[39m\u001b[38;5;124m\"\u001b[39m\n\u001b[1;32m    559\u001b[0m             \u001b[38;5;124mf\u001b[39m\u001b[38;5;124m\"\u001b[39m\u001b[38;5;124m(\u001b[39m\u001b[38;5;132;01m{\u001b[39;00m\u001b[38;5;28mlen\u001b[39m(data)\u001b[38;5;132;01m}\u001b[39;00m\u001b[38;5;124m) \u001b[39m\u001b[38;5;124m\"\u001b[39m\n\u001b[1;32m    560\u001b[0m             \u001b[38;5;124m\"\u001b[39m\u001b[38;5;124mdoes not match length of index \u001b[39m\u001b[38;5;124m\"\u001b[39m\n\u001b[1;32m    561\u001b[0m             \u001b[38;5;124mf\u001b[39m\u001b[38;5;124m\"\u001b[39m\u001b[38;5;124m(\u001b[39m\u001b[38;5;132;01m{\u001b[39;00m\u001b[38;5;28mlen\u001b[39m(index)\u001b[38;5;132;01m}\u001b[39;00m\u001b[38;5;124m)\u001b[39m\u001b[38;5;124m\"\u001b[39m\n\u001b[1;32m    562\u001b[0m         )\n",
      "\u001b[0;31mTypeError\u001b[0m: object of type 'StringMethods' has no len()"
     ]
    }
   ],
   "source": [
    "pdf_results_2021['difference_volt_per_party'] = pdf_results_2021['parties'].map(dict_sum_difference_volt).str"
   ]
  },
  {
   "cell_type": "code",
   "execution_count": 27,
   "id": "34b99c4c",
   "metadata": {},
   "outputs": [
    {
     "data": {
      "text/plain": [
       "0       [12]\n",
       "1       [36]\n",
       "2       [23]\n",
       "3        [0]\n",
       "4       [18]\n",
       "        ... \n",
       "1285    [38]\n",
       "1286    [40]\n",
       "1287    [20]\n",
       "1288    [23]\n",
       "1289     NaN\n",
       "Name: difference_volt_per_party, Length: 1290, dtype: object"
      ]
     },
     "execution_count": 27,
     "metadata": {},
     "output_type": "execute_result"
    }
   ],
   "source": [
    "pdf_results_2021['difference_volt_per_party']"
   ]
  },
  {
   "cell_type": "code",
   "execution_count": 91,
   "id": "cf66c4df",
   "metadata": {},
   "outputs": [],
   "source": [
    "pdf_results_2021['factor_percentage_difference'] = (pdf_results_2021['percentage']/100) * pdf_results_2021['difference_volt_per_party']"
   ]
  },
  {
   "cell_type": "code",
   "execution_count": 92,
   "id": "bda225e7",
   "metadata": {},
   "outputs": [],
   "source": [
    "difference_volt_per_neighboorhoud = pdf_results_2021.groupby('neighborhood').factor_percentage_difference.apply(sum)"
   ]
  },
  {
   "cell_type": "code",
   "execution_count": 96,
   "id": "b553b176",
   "metadata": {},
   "outputs": [],
   "source": [
    "pd.DataFrame(difference_volt_per_neighboorhoud).to_csv(f'{current_path}/data/difference_volt_per_neighboorhoud.csv')"
   ]
  },
  {
   "cell_type": "code",
   "execution_count": 101,
   "id": "a90c0822",
   "metadata": {},
   "outputs": [
    {
     "name": "stdout",
     "output_type": "stream",
     "text": [
      "most people voting for parties dissimilar to Voltduindorp: 38.49\n",
      "most people voting for parties similar to Voltzorgvliet: 22.38\n"
     ]
    }
   ],
   "source": [
    "print(f'most people voting for parties dissimilar to Volt{difference_volt_per_neighboorhoud.idxmax()}: {difference_volt_per_neighboorhoud.max():.2f}')\n",
    "print(f'most people voting for parties similar to Volt{difference_volt_per_neighboorhoud.idxmin()}: {difference_volt_per_neighboorhoud.min():.2f}')"
   ]
  }
 ],
 "metadata": {
  "kernelspec": {
   "display_name": "Python 3 (ipykernel)",
   "language": "python",
   "name": "python3"
  },
  "language_info": {
   "codemirror_mode": {
    "name": "ipython",
    "version": 3
   },
   "file_extension": ".py",
   "mimetype": "text/x-python",
   "name": "python",
   "nbconvert_exporter": "python",
   "pygments_lexer": "ipython3",
   "version": "3.9.12"
  }
 },
 "nbformat": 4,
 "nbformat_minor": 5
}
