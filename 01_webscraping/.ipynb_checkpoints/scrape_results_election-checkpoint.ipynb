{
 "cells": [
  {
   "cell_type": "code",
   "execution_count": 1,
   "id": "e99bbb89-fe15-4e79-a611-a0f25067745a",
   "metadata": {},
   "outputs": [],
   "source": [
    "import requests\n",
    "from bs4 import BeautifulSoup\n",
    "import pandas as pd"
   ]
  },
  {
   "cell_type": "code",
   "execution_count": 37,
   "id": "1524370f-e7e3-469c-b974-40a2631d5f0c",
   "metadata": {},
   "outputs": [],
   "source": [
    "neighborhoods_2022 = ['archipelbuurt',\n",
    " 'centrum',\n",
    " 'groente_en_fruitmarkt',\n",
    " 'schildersbuurt',\n",
    " 'stationsbuurt',\n",
    " 'transvaalkwartier',\n",
    " 'willemspark',\n",
    " 'zeeheldenkwartier',\n",
    " 'bouwlust',\n",
    " 'leyenburg',\n",
    " 'moerwijk',\n",
    " 'morgenstond',\n",
    " 'rustenburg_en_oostbroek',\n",
    " 'wateringse_veld',\n",
    " 'zuiderpark',\n",
    " 'benoordenhout',\n",
    " 'bezuidenhout',\n",
    " 'mariahoeve_en_marlot',\n",
    " 'binckhorst',\n",
    " 'laakkwartier_en_spoorwijk',\n",
    " 'forepark',\n",
    " 'hoornwijk',\n",
    " 'leidschenveen',\n",
    " 'ypenburg',\n",
    " 'bohemen_en_meer_en_bos',\n",
    " 'kijkduin_en_ockenburgh',\n",
    " 'kraayenstein_en_vroondaal',\n",
    " 'loosduinen',\n",
    " 'waldeck',\n",
    " 'mobiel_stembureau',\n",
    " 'belgisch_park',\n",
    " 'duindorp',\n",
    " 'duinoord',\n",
    " 'geuzen_en_statenkwartier',\n",
    " 'scheveningen',\n",
    " 'van_stolkpark_en_scheveningse_bosjes',\n",
    " 'westbroekpark_en_duttendel',\n",
    " 'zorgvliet',\n",
    " 'bomen_en_bloemenbuurt',\n",
    " 'regentessekwartier',\n",
    " 'valkenboskwartier',\n",
    " 'vogelwijk',\n",
    " 'vruchtenbuurt']"
   ]
  },
  {
   "cell_type": "code",
   "execution_count": 28,
   "id": "732f0ca6-54f0-4d62-8b7b-da3cb37ddad0",
   "metadata": {},
   "outputs": [],
   "source": [
    "neighborhoods_2021 = ['archipelbuurt',\n",
    " 'centrum',\n",
    " 'groente_en_fruitmarkt',\n",
    " 'schildersbuurt',\n",
    " 'stationsbuurt',\n",
    " 'transvaalkwartier',\n",
    " 'willemspark',\n",
    " 'zeeheldenkwartier',\n",
    " 'bouwlust',\n",
    " 'leyenburg',\n",
    " 'moerwijk',\n",
    " 'morgenstond',\n",
    " 'rustenburg_en_oostbroek',\n",
    " 'wateringse_veld',\n",
    " 'zuiderpark',\n",
    " 'benoordenhout',\n",
    " 'bezuidenhout',\n",
    " 'mariahoeve_en_marlot',\n",
    " 'binckhorst',\n",
    " 'laakkwartier_en_spoorwijk',\n",
    " 'forepark',\n",
    " 'hoornwijk',\n",
    " 'leidschenveen',\n",
    " 'ypenburg',\n",
    " 'bohemen_en_meer_en_bos',\n",
    " 'kijkduin_en_ockenburgh',\n",
    " 'kraayenstein_en_vroondaal',\n",
    " 'loosduinen',\n",
    " 'waldeck',\n",
    " 'mobiel_stembureau',\n",
    " 'belgisch_park',\n",
    " 'duindorp',\n",
    " 'duinoord',\n",
    " 'geuzen_en_statenkwartier',\n",
    " 'scheveningen',\n",
    " 'van_stolkprk_en_schevbosjes',\n",
    " 'westbroekpark_en_duttendel',\n",
    " 'zorgvliet',\n",
    " 'bomen_en_bloemenbuurt',\n",
    " 'regentessekwartier',\n",
    " 'valkenboskwartier',\n",
    " 'vogelwijk',\n",
    " 'vruchtenbuurt']"
   ]
  },
  {
   "cell_type": "code",
   "execution_count": 11,
   "id": "9c6afd88-bd3e-4852-a18d-2ac76fd62f41",
   "metadata": {},
   "outputs": [],
   "source": [
    "pdf_2022 = pd.DataFrame()\n",
    "pdf_2021 = pd.DataFrame()"
   ]
  },
  {
   "cell_type": "code",
   "execution_count": 5,
   "id": "92b694e0-2949-4e29-9663-f9571c04ae57",
   "metadata": {},
   "outputs": [],
   "source": [
    "r = requests.get('https://uitslagen.denhaag.nl/gemeenteraadsverkiezing_2022/wijken/Archipelbuurt')\n",
    "soup = BeautifulSoup(r.content, \"html.parser\")\n",
    "job_elements = soup.find_all(\"div\", class_=\"result-list-page\")\n",
    "parties = [party.text.split(' ')[1] for party in job_elements[0].find_all(\"td\", class_=\"party\")]\n",
    "votes = [vote.text for vote in job_elements[0].find_all(\"td\", class_=\"votes\")]\n",
    "percentage = [float(percentage.text.replace(',', '.').replace('%', '')) for percentage in job_elements[0].find_all(\"td\", class_=\"percentage\")]"
   ]
  },
  {
   "cell_type": "code",
   "execution_count": 25,
   "id": "43b34eda-1a9d-4686-9559-1a7184788e4f",
   "metadata": {},
   "outputs": [],
   "source": [
    "def get_votes_per_election(verkiezings_url, neighborhoods):\n",
    "    '''\n",
    "    input: second part of url that contains information on the elections as a string(found on https://uitslagen.denhaag.nl/gemeenteraadsverkiezing_2022/archief), e.g.'tweede-kamerverkiezing-2021' and the neighborhouds that are linked in that election. Small differences occur here, e.g.  van_stolkprk_en_schevbosjes instead of van_stolkpark_en_scheveningse_bosjes\n",
    "    output: pandas dataframe with the respective party, amount of votes and the percentage of votes per neighborhood\n",
    "\n",
    "    '''\n",
    "    pdf = pd.DataFrame()\n",
    "    parties = []\n",
    "    votes = []\n",
    "    percentage = []\n",
    "    neighborhood_for_df = []\n",
    "    for neighborhood in neighborhoods:\n",
    "        try:\n",
    "            r = requests.get(f'https://uitslagen.denhaag.nl/{verkiezings_url}/wijken/{neighborhood}')\n",
    "            soup = BeautifulSoup(r.content, \"html.parser\")\n",
    "            job_elements = soup.find_all(\"div\", class_=\"result-list-page\")\n",
    "            parties.extend(party.text.split(' ')[1] for party in job_elements[0].find_all(\"td\", class_=\"party\"))\n",
    "            votes.extend(vote.text for vote in job_elements[0].find_all(\"td\", class_=\"votes\"))\n",
    "            percentage.extend(float(percentage.text.replace(',', '.').replace('%', '')) for percentage in job_elements[0].find_all(\"td\", class_=\"percentage\"))\n",
    "            neighborhood_for_df.extend([neighborhood] * len(list(party.text.split(' ')[1] for party in job_elements[0].find_all(\"td\", class_=\"party\"))))\n",
    "        except:\n",
    "            print(f'Error: the following neighborhood is not an url: {neighborhood}')\n",
    "            return None\n",
    "        \n",
    "    pdf['parties'] = parties\n",
    "    pdf['votes'] = votes\n",
    "    pdf['percentage'] = percentage\n",
    "    pdf['neighborhood'] = neighborhood_for_df\n",
    "    return pdf"
   ]
  },
  {
   "cell_type": "code",
   "execution_count": 38,
   "id": "aa35e207-8f3d-41d0-8610-f8c0a3dc01ce",
   "metadata": {},
   "outputs": [],
   "source": [
    "pdf_2021 = get_votes_per_election('tweede-kamerverkiezing-2021',neighborhoods_2021)\n",
    "pdf_2022 = get_votes_per_election('gemeenteraadsverkiezing_2022', neighborhoods_2022)"
   ]
  },
  {
   "cell_type": "code",
   "execution_count": 45,
   "id": "8bba68c9-bc2f-49d2-99cf-6a6ad7914253",
   "metadata": {},
   "outputs": [],
   "source": [
    "pdf_2021.to_csv('../data/uitslag_2021_landelijk.csv')\n",
    "pdf_2022.to_csv('../data/uitslag_2022_gemeenteraad.csv')"
   ]
  }
 ],
 "metadata": {
  "kernelspec": {
   "display_name": "Python 3 (ipykernel)",
   "language": "python",
   "name": "python3"
  },
  "language_info": {
   "codemirror_mode": {
    "name": "ipython",
    "version": 3
   },
   "file_extension": ".py",
   "mimetype": "text/x-python",
   "name": "python",
   "nbconvert_exporter": "python",
   "pygments_lexer": "ipython3",
   "version": "3.9.7"
  }
 },
 "nbformat": 4,
 "nbformat_minor": 5
}
