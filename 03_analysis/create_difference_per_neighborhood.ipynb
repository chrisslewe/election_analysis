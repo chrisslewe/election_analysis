{
 "cells": [
  {
   "cell_type": "code",
   "execution_count": 1,
   "id": "c036262c-c663-40d4-9d80-df68366d752a",
   "metadata": {},
   "outputs": [],
   "source": [
    "import pandas as pd"
   ]
  },
  {
   "cell_type": "code",
   "execution_count": 9,
   "id": "4f3a7ab7-d0c2-4948-9353-847ffdc7493e",
   "metadata": {},
   "outputs": [
    {
     "data": {
      "text/html": [
       "<div>\n",
       "<style scoped>\n",
       "    .dataframe tbody tr th:only-of-type {\n",
       "        vertical-align: middle;\n",
       "    }\n",
       "\n",
       "    .dataframe tbody tr th {\n",
       "        vertical-align: top;\n",
       "    }\n",
       "\n",
       "    .dataframe thead th {\n",
       "        text-align: right;\n",
       "    }\n",
       "</style>\n",
       "<table border=\"1\" class=\"dataframe\">\n",
       "  <thead>\n",
       "    <tr style=\"text-align: right;\">\n",
       "      <th></th>\n",
       "      <th>difference</th>\n",
       "    </tr>\n",
       "  </thead>\n",
       "  <tbody>\n",
       "    <tr>\n",
       "      <th>Lijst30</th>\n",
       "      <td>43</td>\n",
       "    </tr>\n",
       "    <tr>\n",
       "      <th>U-Buntu Connected Front</th>\n",
       "      <td>20</td>\n",
       "    </tr>\n",
       "    <tr>\n",
       "      <th>Trots op Nederland</th>\n",
       "      <td>43</td>\n",
       "    </tr>\n",
       "    <tr>\n",
       "      <th>Jezus Leeft</th>\n",
       "      <td>38</td>\n",
       "    </tr>\n",
       "    <tr>\n",
       "      <th>Oprecht</th>\n",
       "      <td>40</td>\n",
       "    </tr>\n",
       "    <tr>\n",
       "      <th>Lijst Henk Krol</th>\n",
       "      <td>38</td>\n",
       "    </tr>\n",
       "    <tr>\n",
       "      <th>BoerBurgerBeweging</th>\n",
       "      <td>37</td>\n",
       "    </tr>\n",
       "    <tr>\n",
       "      <th>Splinter</th>\n",
       "      <td>28</td>\n",
       "    </tr>\n",
       "    <tr>\n",
       "      <th>Piratenpartij</th>\n",
       "      <td>26</td>\n",
       "    </tr>\n",
       "    <tr>\n",
       "      <th>NIDA</th>\n",
       "      <td>26</td>\n",
       "    </tr>\n",
       "    <tr>\n",
       "      <th>Code Oranje</th>\n",
       "      <td>42</td>\n",
       "    </tr>\n",
       "    <tr>\n",
       "      <th>JA21</th>\n",
       "      <td>42</td>\n",
       "    </tr>\n",
       "    <tr>\n",
       "      <th>Forum voor Democratie</th>\n",
       "      <td>47</td>\n",
       "    </tr>\n",
       "    <tr>\n",
       "      <th>DENK</th>\n",
       "      <td>28</td>\n",
       "    </tr>\n",
       "    <tr>\n",
       "      <th>SGP</th>\n",
       "      <td>39</td>\n",
       "    </tr>\n",
       "    <tr>\n",
       "      <th>Partij voor de Dieren</th>\n",
       "      <td>23</td>\n",
       "    </tr>\n",
       "    <tr>\n",
       "      <th>ChristenUnie</th>\n",
       "      <td>28</td>\n",
       "    </tr>\n",
       "    <tr>\n",
       "      <th>Partij van de Arbeid</th>\n",
       "      <td>21</td>\n",
       "    </tr>\n",
       "    <tr>\n",
       "      <th>SP</th>\n",
       "      <td>29</td>\n",
       "    </tr>\n",
       "    <tr>\n",
       "      <th>GroenLinks</th>\n",
       "      <td>18</td>\n",
       "    </tr>\n",
       "    <tr>\n",
       "      <th>CDA</th>\n",
       "      <td>33</td>\n",
       "    </tr>\n",
       "    <tr>\n",
       "      <th>PVV</th>\n",
       "      <td>48</td>\n",
       "    </tr>\n",
       "    <tr>\n",
       "      <th>NLBeter</th>\n",
       "      <td>28</td>\n",
       "    </tr>\n",
       "    <tr>\n",
       "      <th>JONG</th>\n",
       "      <td>25</td>\n",
       "    </tr>\n",
       "    <tr>\n",
       "      <th>Libertaire Partij</th>\n",
       "      <td>32</td>\n",
       "    </tr>\n",
       "    <tr>\n",
       "      <th>Volt</th>\n",
       "      <td>0</td>\n",
       "    </tr>\n",
       "    <tr>\n",
       "      <th>BIJ1</th>\n",
       "      <td>19</td>\n",
       "    </tr>\n",
       "    <tr>\n",
       "      <th>50PLUS</th>\n",
       "      <td>21</td>\n",
       "    </tr>\n",
       "    <tr>\n",
       "      <th>D66</th>\n",
       "      <td>12</td>\n",
       "    </tr>\n",
       "    <tr>\n",
       "      <th>VVD</th>\n",
       "      <td>36</td>\n",
       "    </tr>\n",
       "  </tbody>\n",
       "</table>\n",
       "</div>"
      ],
      "text/plain": [
       "                         difference\n",
       "Lijst30                          43\n",
       "U-Buntu Connected Front          20\n",
       "Trots op Nederland               43\n",
       "Jezus Leeft                      38\n",
       "Oprecht                          40\n",
       "Lijst Henk Krol                  38\n",
       "BoerBurgerBeweging               37\n",
       "Splinter                         28\n",
       "Piratenpartij                    26\n",
       "NIDA                             26\n",
       "Code Oranje                      42\n",
       "JA21                             42\n",
       "Forum voor Democratie            47\n",
       "DENK                             28\n",
       "SGP                              39\n",
       "Partij voor de Dieren            23\n",
       "ChristenUnie                     28\n",
       "Partij van de Arbeid             21\n",
       "SP                               29\n",
       "GroenLinks                       18\n",
       "CDA                              33\n",
       "PVV                              48\n",
       "NLBeter                          28\n",
       "JONG                             25\n",
       "Libertaire Partij                32\n",
       "Volt                              0\n",
       "BIJ1                             19\n",
       "50PLUS                           21\n",
       "D66                              12\n",
       "VVD                              36"
      ]
     },
     "execution_count": 9,
     "metadata": {},
     "output_type": "execute_result"
    }
   ],
   "source": [
    "pdf_results_2021 = pd.read_csv('../data/raw/uitslag_2021_landelijk.csv')\n",
    "sum_difference_volt =  pd.read_csv('../data/processed/sum_difference_national_electorate_with_volt_stemwijzer.csv', index_col = 0)\n",
    "sum_difference_volt"
   ]
  },
  {
   "cell_type": "code",
   "execution_count": 11,
   "id": "9d013cc8-2ce2-48bc-a65a-f9b45d10cd0f",
   "metadata": {},
   "outputs": [],
   "source": [
    "#columns in the differenent datasets do not match, so to do mapping in a later stage, the party names are adjusted mannualy\n",
    "sum_difference_volt.index = ['Lijst30', 'U-Buntu', 'Trots',\n",
    "       'Jezus Leeft', 'OPRECHT', 'Lijst', 'BBB',\n",
    "       'Splinter', 'Piratenpartij', 'NIDA', 'CODE', 'JA21',\n",
    "       'Forum', 'DENK', 'SGP', 'Partij',\n",
    "       'ChristenUnie', 'P.v.d.A.', 'SP', 'GROENLINKS', 'CDA',\n",
    "       'PVV', 'NLBeter', 'JONG', 'LP', 'Volt', 'BIJ1', '50PLUS',\n",
    "       'D66', 'VVD']"
   ]
  },
  {
   "cell_type": "code",
   "execution_count": 21,
   "id": "b56d63ef-4d18-4087-916f-5a29a6a8f3d6",
   "metadata": {},
   "outputs": [],
   "source": [
    "dict_sum_difference_volt = sum_difference_volt.T.to_dict('list')"
   ]
  },
  {
   "cell_type": "code",
   "execution_count": 25,
   "id": "f0da0754",
   "metadata": {},
   "outputs": [
    {
     "data": {
      "text/plain": [
       "{'Lijst30': [43],\n",
       " 'U-Buntu': [20],\n",
       " 'Trots': [43],\n",
       " 'Jezus Leeft': [38],\n",
       " 'OPRECHT': [40],\n",
       " 'Lijst': [38],\n",
       " 'BBB': [37],\n",
       " 'Splinter': [28],\n",
       " 'Piratenpartij': [26],\n",
       " 'NIDA': [26],\n",
       " 'CODE': [42],\n",
       " 'JA21': [42],\n",
       " 'Forum': [47],\n",
       " 'DENK': [28],\n",
       " 'SGP': [39],\n",
       " 'Partij': [23],\n",
       " 'ChristenUnie': [28],\n",
       " 'P.v.d.A.': [21],\n",
       " 'SP': [29],\n",
       " 'GROENLINKS': [18],\n",
       " 'CDA': [33],\n",
       " 'PVV': [48],\n",
       " 'NLBeter': [28],\n",
       " 'JONG': [25],\n",
       " 'LP': [32],\n",
       " 'Volt': [0],\n",
       " 'BIJ1': [19],\n",
       " '50PLUS': [21],\n",
       " 'D66': [12],\n",
       " 'VVD': [36]}"
      ]
     },
     "execution_count": 25,
     "metadata": {},
     "output_type": "execute_result"
    }
   ],
   "source": [
    "dict_sum_difference_volt"
   ]
  },
  {
   "cell_type": "code",
   "execution_count": 33,
   "id": "cc89b244-08c8-4a69-acf2-561f076f8f47",
   "metadata": {},
   "outputs": [],
   "source": [
    "pdf_results_2021['difference_volt_per_party'] = pdf_results_2021['parties'].map(dict_sum_difference_volt).str[0]"
   ]
  },
  {
   "cell_type": "code",
   "execution_count": 34,
   "id": "1bf84efd",
   "metadata": {},
   "outputs": [
    {
     "data": {
      "text/plain": [
       "0       12.0\n",
       "1       36.0\n",
       "2       23.0\n",
       "3        0.0\n",
       "4       18.0\n",
       "        ... \n",
       "1285    38.0\n",
       "1286    40.0\n",
       "1287    20.0\n",
       "1288    23.0\n",
       "1289     NaN\n",
       "Name: difference_volt_per_party, Length: 1290, dtype: float64"
      ]
     },
     "execution_count": 34,
     "metadata": {},
     "output_type": "execute_result"
    }
   ],
   "source": [
    "pdf_results_2021['difference_volt_per_party']"
   ]
  },
  {
   "cell_type": "code",
   "execution_count": 35,
   "id": "cf66c4df",
   "metadata": {},
   "outputs": [],
   "source": [
    "pdf_results_2021['factor_percentage_difference'] = (pdf_results_2021['percentage']/100) * pdf_results_2021['difference_volt_per_party']"
   ]
  },
  {
   "cell_type": "code",
   "execution_count": 36,
   "id": "bda225e7",
   "metadata": {},
   "outputs": [],
   "source": [
    "difference_volt_per_neighboorhoud = pdf_results_2021.groupby('neighborhood').factor_percentage_difference.apply(sum)"
   ]
  },
  {
   "cell_type": "code",
   "execution_count": 38,
   "id": "b553b176",
   "metadata": {},
   "outputs": [],
   "source": [
    "pd.DataFrame(difference_volt_per_neighboorhoud).to_csv('../data/processed/difference_volt_per_neighboorhoud.csv')"
   ]
  },
  {
   "cell_type": "code",
   "execution_count": 39,
   "id": "a90c0822",
   "metadata": {},
   "outputs": [
    {
     "name": "stdout",
     "output_type": "stream",
     "text": [
      "most people voting for parties dissimilar to Voltduindorp: 38.49\n",
      "most people voting for parties similar to Voltzorgvliet: 22.38\n"
     ]
    }
   ],
   "source": [
    "print(f'most people voting for parties dissimilar to Volt{difference_volt_per_neighboorhoud.idxmax()}: {difference_volt_per_neighboorhoud.max():.2f}')\n",
    "print(f'most people voting for parties similar to Volt{difference_volt_per_neighboorhoud.idxmin()}: {difference_volt_per_neighboorhoud.min():.2f}')"
   ]
  }
 ],
 "metadata": {
  "kernelspec": {
   "display_name": "Python 3 (ipykernel)",
   "language": "python",
   "name": "python3"
  },
  "language_info": {
   "codemirror_mode": {
    "name": "ipython",
    "version": 3
   },
   "file_extension": ".py",
   "mimetype": "text/x-python",
   "name": "python",
   "nbconvert_exporter": "python",
   "pygments_lexer": "ipython3",
   "version": "3.9.12"
  }
 },
 "nbformat": 4,
 "nbformat_minor": 5
}
